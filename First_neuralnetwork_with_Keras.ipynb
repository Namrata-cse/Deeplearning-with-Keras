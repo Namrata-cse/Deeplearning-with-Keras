{
 "cells": [
  {
   "cell_type": "code",
   "execution_count": 2,
   "metadata": {},
   "outputs": [
    {
     "name": "stdout",
     "output_type": "stream",
     "text": [
      "Requirement already satisfied: keras in c:\\users\\namrata\\anaconda3\\lib\\site-packages (2.4.3)\n",
      "Requirement already satisfied: numpy>=1.9.1 in c:\\users\\namrata\\anaconda3\\lib\\site-packages (from keras) (1.20.3)\n",
      "Requirement already satisfied: pyyaml in c:\\users\\namrata\\anaconda3\\lib\\site-packages (from keras) (5.3.1)\n",
      "Requirement already satisfied: scipy>=0.14 in c:\\users\\namrata\\anaconda3\\lib\\site-packages (from keras) (1.6.2)\n",
      "Requirement already satisfied: h5py in c:\\users\\namrata\\anaconda3\\lib\\site-packages (from keras) (2.10.0)\n",
      "Requirement already satisfied: six in c:\\users\\namrata\\anaconda3\\lib\\site-packages (from h5py->keras) (1.15.0)\n"
     ]
    }
   ],
   "source": [
    "!pip install keras\n",
    "from numpy import loadtxt\n",
    "from keras.models import Sequential\n",
    "from keras.layers import Dense\n",
    "import pandas as pd"
   ]
  },
  {
   "cell_type": "markdown",
   "metadata": {},
   "source": [
    "#  Loading Pima Indians onset of diabetes dataset."
   ]
  },
  {
   "cell_type": "code",
   "execution_count": 3,
   "metadata": {},
   "outputs": [],
   "source": [
    "df=loadtxt(\"D:/Data Science/pima-indians-diabetes.data.csv\", delimiter=',')"
   ]
  },
  {
   "cell_type": "code",
   "execution_count": 4,
   "metadata": {},
   "outputs": [],
   "source": [
    "# split into input (X) and output (y) variables\n",
    "X = df[:,0:8]\n",
    "y = df[:,8]"
   ]
  },
  {
   "cell_type": "code",
   "execution_count": 5,
   "metadata": {},
   "outputs": [
    {
     "name": "stdout",
     "output_type": "stream",
     "text": [
      "[[  6.    148.     72.    ...   0.627  50.      1.   ]\n",
      " [  1.     85.     66.    ...   0.351  31.      0.   ]\n",
      " [  8.    183.     64.    ...   0.672  32.      1.   ]\n",
      " ...\n",
      " [  5.    121.     72.    ...   0.245  30.      0.   ]\n",
      " [  1.    126.     60.    ...   0.349  47.      1.   ]\n",
      " [  1.     93.     70.    ...   0.315  23.      0.   ]]\n"
     ]
    }
   ],
   "source": [
    "print(df)"
   ]
  },
  {
   "cell_type": "markdown",
   "metadata": {},
   "source": [
    "# Defining the Keras model"
   ]
  },
  {
   "cell_type": "code",
   "execution_count": 6,
   "metadata": {},
   "outputs": [],
   "source": [
    "model = Sequential()\n",
    "model.add(Dense(12, input_dim=8, activation='relu'))\n",
    "model.add(Dense(8, activation='relu'))\n",
    "model.add(Dense(1, activation='sigmoid'))"
   ]
  },
  {
   "cell_type": "markdown",
   "metadata": {},
   "source": [
    "#  compile the keras model"
   ]
  },
  {
   "cell_type": "code",
   "execution_count": 7,
   "metadata": {},
   "outputs": [],
   "source": [
    "model.compile(loss='binary_crossentropy', optimizer='adam', metrics=['accuracy'])"
   ]
  },
  {
   "cell_type": "markdown",
   "metadata": {},
   "source": [
    "# Fit the Keras model"
   ]
  },
  {
   "cell_type": "code",
   "execution_count": 8,
   "metadata": {},
   "outputs": [
    {
     "name": "stdout",
     "output_type": "stream",
     "text": [
      "Epoch 1/100\n",
      "77/77 [==============================] - 26s 2ms/step - loss: 7.0198 - accuracy: 0.6074\n",
      "Epoch 2/100\n",
      "77/77 [==============================] - 0s 2ms/step - loss: 2.8679 - accuracy: 0.5645\n",
      "Epoch 3/100\n",
      "77/77 [==============================] - 0s 2ms/step - loss: 2.0386 - accuracy: 0.5464\n",
      "Epoch 4/100\n",
      "77/77 [==============================] - 0s 2ms/step - loss: 1.3436 - accuracy: 0.5786\n",
      "Epoch 5/100\n",
      "77/77 [==============================] - 0s 2ms/step - loss: 1.2007 - accuracy: 0.6026\n",
      "Epoch 6/100\n",
      "77/77 [==============================] - 0s 2ms/step - loss: 1.1402 - accuracy: 0.5953\n",
      "Epoch 7/100\n",
      "77/77 [==============================] - 0s 2ms/step - loss: 0.9983 - accuracy: 0.6221\n",
      "Epoch 8/100\n",
      "77/77 [==============================] - 0s 2ms/step - loss: 0.7080 - accuracy: 0.6288\n",
      "Epoch 9/100\n",
      "77/77 [==============================] - 0s 2ms/step - loss: 0.7438 - accuracy: 0.6523: 0s - loss: 0.6707 - accuracy: \n",
      "Epoch 10/100\n",
      "77/77 [==============================] - 0s 2ms/step - loss: 0.7923 - accuracy: 0.5715\n",
      "Epoch 11/100\n",
      "77/77 [==============================] - 0s 2ms/step - loss: 0.7256 - accuracy: 0.6475\n",
      "Epoch 12/100\n",
      "77/77 [==============================] - 0s 2ms/step - loss: 0.6560 - accuracy: 0.6746\n",
      "Epoch 13/100\n",
      "77/77 [==============================] - 0s 2ms/step - loss: 0.6535 - accuracy: 0.6646\n",
      "Epoch 14/100\n",
      "77/77 [==============================] - 0s 2ms/step - loss: 0.7710 - accuracy: 0.6443\n",
      "Epoch 15/100\n",
      "77/77 [==============================] - 0s 2ms/step - loss: 0.6490 - accuracy: 0.6512\n",
      "Epoch 16/100\n",
      "77/77 [==============================] - 0s 2ms/step - loss: 0.6245 - accuracy: 0.6971\n",
      "Epoch 17/100\n",
      "77/77 [==============================] - 0s 2ms/step - loss: 0.6470 - accuracy: 0.6594\n",
      "Epoch 18/100\n",
      "77/77 [==============================] - 0s 2ms/step - loss: 0.6411 - accuracy: 0.6806\n",
      "Epoch 19/100\n",
      "77/77 [==============================] - 0s 2ms/step - loss: 0.6380 - accuracy: 0.6729\n",
      "Epoch 20/100\n",
      "77/77 [==============================] - 0s 2ms/step - loss: 0.6562 - accuracy: 0.6901\n",
      "Epoch 21/100\n",
      "77/77 [==============================] - 0s 2ms/step - loss: 0.6196 - accuracy: 0.7126\n",
      "Epoch 22/100\n",
      "77/77 [==============================] - 0s 2ms/step - loss: 0.6422 - accuracy: 0.6749: 0s - loss: 0.6721 - accuracy: \n",
      "Epoch 23/100\n",
      "77/77 [==============================] - 0s 2ms/step - loss: 0.6145 - accuracy: 0.6998\n",
      "Epoch 24/100\n",
      "77/77 [==============================] - 0s 3ms/step - loss: 0.6074 - accuracy: 0.7077\n",
      "Epoch 25/100\n",
      "77/77 [==============================] - 0s 2ms/step - loss: 0.5911 - accuracy: 0.7190\n",
      "Epoch 26/100\n",
      "77/77 [==============================] - 0s 2ms/step - loss: 0.6019 - accuracy: 0.6935\n",
      "Epoch 27/100\n",
      "77/77 [==============================] - 0s 3ms/step - loss: 0.5802 - accuracy: 0.6915\n",
      "Epoch 28/100\n",
      "77/77 [==============================] - 0s 3ms/step - loss: 0.5907 - accuracy: 0.6830\n",
      "Epoch 29/100\n",
      "77/77 [==============================] - 0s 2ms/step - loss: 0.5601 - accuracy: 0.7325\n",
      "Epoch 30/100\n",
      "77/77 [==============================] - 0s 2ms/step - loss: 0.5770 - accuracy: 0.7269\n",
      "Epoch 31/100\n",
      "77/77 [==============================] - 0s 2ms/step - loss: 0.6041 - accuracy: 0.7050\n",
      "Epoch 32/100\n",
      "77/77 [==============================] - 0s 2ms/step - loss: 0.6320 - accuracy: 0.6687\n",
      "Epoch 33/100\n",
      "77/77 [==============================] - 0s 2ms/step - loss: 0.5377 - accuracy: 0.7449\n",
      "Epoch 34/100\n",
      "77/77 [==============================] - 0s 3ms/step - loss: 0.5744 - accuracy: 0.7178\n",
      "Epoch 35/100\n",
      "77/77 [==============================] - 0s 3ms/step - loss: 0.5596 - accuracy: 0.7090\n",
      "Epoch 36/100\n",
      "77/77 [==============================] - 0s 2ms/step - loss: 0.5827 - accuracy: 0.7169\n",
      "Epoch 37/100\n",
      "77/77 [==============================] - 0s 3ms/step - loss: 0.5518 - accuracy: 0.7363\n",
      "Epoch 38/100\n",
      "77/77 [==============================] - 0s 2ms/step - loss: 0.5521 - accuracy: 0.7329\n",
      "Epoch 39/100\n",
      "77/77 [==============================] - 0s 2ms/step - loss: 0.5411 - accuracy: 0.7465\n",
      "Epoch 40/100\n",
      "77/77 [==============================] - 0s 2ms/step - loss: 0.5582 - accuracy: 0.7231\n",
      "Epoch 41/100\n",
      "77/77 [==============================] - 0s 3ms/step - loss: 0.5652 - accuracy: 0.7271\n",
      "Epoch 42/100\n",
      "77/77 [==============================] - 0s 2ms/step - loss: 0.5469 - accuracy: 0.7017\n",
      "Epoch 43/100\n",
      "77/77 [==============================] - 0s 3ms/step - loss: 0.5908 - accuracy: 0.6881\n",
      "Epoch 44/100\n",
      "77/77 [==============================] - 0s 2ms/step - loss: 0.5938 - accuracy: 0.7088\n",
      "Epoch 45/100\n",
      "77/77 [==============================] - 0s 2ms/step - loss: 0.5592 - accuracy: 0.7351\n",
      "Epoch 46/100\n",
      "77/77 [==============================] - 0s 2ms/step - loss: 0.5209 - accuracy: 0.7466\n",
      "Epoch 47/100\n",
      "77/77 [==============================] - 0s 3ms/step - loss: 0.5676 - accuracy: 0.6822\n",
      "Epoch 48/100\n",
      "77/77 [==============================] - 0s 2ms/step - loss: 0.5635 - accuracy: 0.7301\n",
      "Epoch 49/100\n",
      "77/77 [==============================] - 0s 2ms/step - loss: 0.5421 - accuracy: 0.7447\n",
      "Epoch 50/100\n",
      "77/77 [==============================] - 0s 2ms/step - loss: 0.5267 - accuracy: 0.7302\n",
      "Epoch 51/100\n",
      "77/77 [==============================] - 0s 2ms/step - loss: 0.5590 - accuracy: 0.7097\n",
      "Epoch 52/100\n",
      "77/77 [==============================] - 0s 2ms/step - loss: 0.5362 - accuracy: 0.7582\n",
      "Epoch 53/100\n",
      "77/77 [==============================] - 0s 2ms/step - loss: 0.5309 - accuracy: 0.7489\n",
      "Epoch 54/100\n",
      "77/77 [==============================] - 0s 2ms/step - loss: 0.5257 - accuracy: 0.7576\n",
      "Epoch 55/100\n",
      "77/77 [==============================] - 0s 2ms/step - loss: 0.5312 - accuracy: 0.7448\n",
      "Epoch 56/100\n",
      "77/77 [==============================] - 0s 2ms/step - loss: 0.5215 - accuracy: 0.7490\n",
      "Epoch 57/100\n",
      "77/77 [==============================] - 0s 3ms/step - loss: 0.5739 - accuracy: 0.7423\n",
      "Epoch 58/100\n",
      "77/77 [==============================] - 0s 2ms/step - loss: 0.5321 - accuracy: 0.7453\n",
      "Epoch 59/100\n",
      "77/77 [==============================] - 0s 2ms/step - loss: 0.5798 - accuracy: 0.7327\n",
      "Epoch 60/100\n",
      "77/77 [==============================] - 0s 2ms/step - loss: 0.6158 - accuracy: 0.7169\n",
      "Epoch 61/100\n",
      "77/77 [==============================] - 0s 2ms/step - loss: 0.5529 - accuracy: 0.7319\n",
      "Epoch 62/100\n",
      "77/77 [==============================] - 0s 2ms/step - loss: 0.5298 - accuracy: 0.7162\n",
      "Epoch 63/100\n",
      "77/77 [==============================] - 0s 3ms/step - loss: 0.5286 - accuracy: 0.7392\n",
      "Epoch 64/100\n",
      "77/77 [==============================] - 0s 2ms/step - loss: 0.5069 - accuracy: 0.7553\n",
      "Epoch 65/100\n",
      "77/77 [==============================] - 0s 2ms/step - loss: 0.5188 - accuracy: 0.7604\n",
      "Epoch 66/100\n",
      "77/77 [==============================] - 0s 2ms/step - loss: 0.5107 - accuracy: 0.7515\n",
      "Epoch 67/100\n",
      "77/77 [==============================] - 0s 2ms/step - loss: 0.5366 - accuracy: 0.7283\n",
      "Epoch 68/100\n",
      "77/77 [==============================] - 0s 2ms/step - loss: 0.5134 - accuracy: 0.7521\n",
      "Epoch 69/100\n",
      "77/77 [==============================] - 0s 2ms/step - loss: 0.5214 - accuracy: 0.7442\n",
      "Epoch 70/100\n",
      "77/77 [==============================] - 0s 2ms/step - loss: 0.5287 - accuracy: 0.7535\n",
      "Epoch 71/100\n",
      "77/77 [==============================] - 0s 2ms/step - loss: 0.5392 - accuracy: 0.7521\n",
      "Epoch 72/100\n",
      "77/77 [==============================] - 0s 2ms/step - loss: 0.5457 - accuracy: 0.7101\n",
      "Epoch 73/100\n",
      "77/77 [==============================] - 0s 2ms/step - loss: 0.5235 - accuracy: 0.7346\n",
      "Epoch 74/100\n",
      "77/77 [==============================] - 0s 2ms/step - loss: 0.5112 - accuracy: 0.7359\n",
      "Epoch 75/100\n",
      "77/77 [==============================] - 0s 2ms/step - loss: 0.5550 - accuracy: 0.7498\n",
      "Epoch 76/100\n",
      "77/77 [==============================] - 0s 2ms/step - loss: 0.5182 - accuracy: 0.7679\n",
      "Epoch 77/100\n",
      "77/77 [==============================] - 0s 2ms/step - loss: 0.5206 - accuracy: 0.7396\n",
      "Epoch 78/100\n",
      "77/77 [==============================] - 0s 2ms/step - loss: 0.5745 - accuracy: 0.7173\n",
      "Epoch 79/100\n",
      "77/77 [==============================] - 0s 3ms/step - loss: 0.5500 - accuracy: 0.7383\n",
      "Epoch 80/100\n",
      "77/77 [==============================] - 0s 2ms/step - loss: 0.4906 - accuracy: 0.7685\n",
      "Epoch 81/100\n",
      "77/77 [==============================] - 0s 2ms/step - loss: 0.5735 - accuracy: 0.7043\n",
      "Epoch 82/100\n"
     ]
    },
    {
     "name": "stdout",
     "output_type": "stream",
     "text": [
      "77/77 [==============================] - 0s 2ms/step - loss: 0.5126 - accuracy: 0.7412\n",
      "Epoch 83/100\n",
      "77/77 [==============================] - 0s 2ms/step - loss: 0.5052 - accuracy: 0.7605\n",
      "Epoch 84/100\n",
      "77/77 [==============================] - 0s 2ms/step - loss: 0.5106 - accuracy: 0.7285\n",
      "Epoch 85/100\n",
      "77/77 [==============================] - 0s 2ms/step - loss: 0.5302 - accuracy: 0.7370\n",
      "Epoch 86/100\n",
      "77/77 [==============================] - ETA: 0s - loss: 0.5235 - accuracy: 0.74 - 0s 2ms/step - loss: 0.5219 - accuracy: 0.7476\n",
      "Epoch 87/100\n",
      "77/77 [==============================] - 0s 2ms/step - loss: 0.5122 - accuracy: 0.7565\n",
      "Epoch 88/100\n",
      "77/77 [==============================] - 0s 2ms/step - loss: 0.5099 - accuracy: 0.7282\n",
      "Epoch 89/100\n",
      "77/77 [==============================] - 0s 2ms/step - loss: 0.5213 - accuracy: 0.7451\n",
      "Epoch 90/100\n",
      "77/77 [==============================] - 0s 2ms/step - loss: 0.5131 - accuracy: 0.7364\n",
      "Epoch 91/100\n",
      "77/77 [==============================] - 0s 2ms/step - loss: 0.5307 - accuracy: 0.7192\n",
      "Epoch 92/100\n",
      "77/77 [==============================] - ETA: 0s - loss: 0.5263 - accuracy: 0.74 - 0s 2ms/step - loss: 0.5248 - accuracy: 0.7500\n",
      "Epoch 93/100\n",
      "77/77 [==============================] - 0s 2ms/step - loss: 0.4907 - accuracy: 0.7726\n",
      "Epoch 94/100\n",
      "77/77 [==============================] - 0s 2ms/step - loss: 0.5280 - accuracy: 0.7364\n",
      "Epoch 95/100\n",
      "77/77 [==============================] - 0s 2ms/step - loss: 0.4996 - accuracy: 0.7631\n",
      "Epoch 96/100\n",
      "77/77 [==============================] - 0s 2ms/step - loss: 0.4668 - accuracy: 0.7938\n",
      "Epoch 97/100\n",
      "77/77 [==============================] - 0s 2ms/step - loss: 0.5036 - accuracy: 0.7736\n",
      "Epoch 98/100\n",
      "77/77 [==============================] - 0s 2ms/step - loss: 0.4910 - accuracy: 0.7634\n",
      "Epoch 99/100\n",
      "77/77 [==============================] - 0s 2ms/step - loss: 0.5264 - accuracy: 0.7476\n",
      "Epoch 100/100\n",
      "77/77 [==============================] - 0s 2ms/step - loss: 0.4821 - accuracy: 0.7726\n"
     ]
    },
    {
     "data": {
      "text/plain": [
       "<keras.callbacks.History at 0x1e8275fbdc0>"
      ]
     },
     "execution_count": 8,
     "metadata": {},
     "output_type": "execute_result"
    }
   ],
   "source": [
    "model.fit(X, y, epochs=100, batch_size=10)"
   ]
  },
  {
   "cell_type": "markdown",
   "metadata": {},
   "source": [
    "# Evaluate the keras model"
   ]
  },
  {
   "cell_type": "code",
   "execution_count": 9,
   "metadata": {},
   "outputs": [
    {
     "name": "stdout",
     "output_type": "stream",
     "text": [
      "24/24 [==============================] - 1s 2ms/step - loss: 0.4833 - accuracy: 0.7552\n",
      "Accuracy: 75.52\n"
     ]
    }
   ],
   "source": [
    "_, accuracy = model.evaluate(X, y)\n",
    "print('Accuracy: %.2f' % (accuracy*100))"
   ]
  },
  {
   "cell_type": "markdown",
   "metadata": {},
   "source": [
    "#  make class predictions with the model"
   ]
  },
  {
   "cell_type": "code",
   "execution_count": 11,
   "metadata": {},
   "outputs": [],
   "source": [
    "predictions = model.predict_classes(X)"
   ]
  },
  {
   "cell_type": "code",
   "execution_count": 12,
   "metadata": {},
   "outputs": [
    {
     "name": "stdout",
     "output_type": "stream",
     "text": [
      "[6.0, 148.0, 72.0, 35.0, 0.0, 33.6, 0.627, 50.0] => 1 (expected 1)\n",
      "[1.0, 85.0, 66.0, 29.0, 0.0, 26.6, 0.351, 31.0] => 0 (expected 0)\n",
      "[8.0, 183.0, 64.0, 0.0, 0.0, 23.3, 0.672, 32.0] => 1 (expected 1)\n",
      "[1.0, 89.0, 66.0, 23.0, 94.0, 28.1, 0.167, 21.0] => 0 (expected 0)\n",
      "[0.0, 137.0, 40.0, 35.0, 168.0, 43.1, 2.288, 33.0] => 1 (expected 1)\n",
      "[5.0, 116.0, 74.0, 0.0, 0.0, 25.6, 0.201, 30.0] => 0 (expected 0)\n",
      "[3.0, 78.0, 50.0, 32.0, 88.0, 31.0, 0.248, 26.0] => 0 (expected 1)\n",
      "[10.0, 115.0, 0.0, 0.0, 0.0, 35.3, 0.134, 29.0] => 0 (expected 0)\n",
      "[2.0, 197.0, 70.0, 45.0, 543.0, 30.5, 0.158, 53.0] => 1 (expected 1)\n",
      "[8.0, 125.0, 96.0, 0.0, 0.0, 0.0, 0.232, 54.0] => 0 (expected 1)\n"
     ]
    }
   ],
   "source": [
    "# summarize the first 10 cases\n",
    "for i in range(10):\n",
    "    print('%s => %d (expected %d)' % (X[i].tolist(), predictions[i], y[i]))"
   ]
  },
  {
   "cell_type": "code",
   "execution_count": 43,
   "metadata": {},
   "outputs": [],
   "source": []
  }
 ],
 "metadata": {
  "kernelspec": {
   "display_name": "Python 3",
   "language": "python",
   "name": "python3"
  },
  "language_info": {
   "codemirror_mode": {
    "name": "ipython",
    "version": 3
   },
   "file_extension": ".py",
   "mimetype": "text/x-python",
   "name": "python",
   "nbconvert_exporter": "python",
   "pygments_lexer": "ipython3",
   "version": "3.8.5"
  }
 },
 "nbformat": 4,
 "nbformat_minor": 4
}
